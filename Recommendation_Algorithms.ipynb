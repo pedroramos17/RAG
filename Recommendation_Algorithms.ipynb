{
  "nbformat": 4,
  "nbformat_minor": 0,
  "metadata": {
    "colab": {
      "provenance": []
    },
    "kernelspec": {
      "name": "python3",
      "display_name": "Python 3"
    },
    "language_info": {
      "name": "python"
    }
  },
  "cells": [
    {
      "cell_type": "markdown",
      "source": [
        "# Different ANN Algos\n",
        "## 1. HNSWLIB (Proximity Graph)\n",
        "## 2. Google ScaNN (Vector Compression)\n",
        "## 3. Spotify Annoy (Trees)\n",
        "## 4. Faiss (Clustering)"
      ],
      "metadata": {
        "id": "twrC_2qbXv4Q"
      }
    },
    {
      "cell_type": "markdown",
      "source": [
        "**HNSWLIB**\n",
        "HNSW is a Hierarchical Navigate Small World is a graph based algo used for eficient approximate nearest neighbor (ANN) search in high-d spaces.\n",
        "\n",
        "* HNSWLIB library\n",
        "* Performance in terms of speed and accuracy for ANN tasks.\n",
        "\n"
      ],
      "metadata": {
        "id": "AR8zU646J1wP"
      }
    },
    {
      "cell_type": "code",
      "execution_count": 63,
      "metadata": {
        "colab": {
          "base_uri": "https://localhost:8080/"
        },
        "id": "pmRUoQ83JuhF",
        "outputId": "26374f1b-694b-4590-d696-b8e9c7a3a237"
      },
      "outputs": [
        {
          "output_type": "stream",
          "name": "stdout",
          "text": [
            "Requirement already satisfied: sentence_transformers in /usr/local/lib/python3.10/dist-packages (2.2.2)\n",
            "Requirement already satisfied: hnswlib in /usr/local/lib/python3.10/dist-packages (0.8.0)\n",
            "Requirement already satisfied: transformers<5.0.0,>=4.6.0 in /usr/local/lib/python3.10/dist-packages (from sentence_transformers) (4.35.2)\n",
            "Requirement already satisfied: tqdm in /usr/local/lib/python3.10/dist-packages (from sentence_transformers) (4.66.1)\n",
            "Requirement already satisfied: torch>=1.6.0 in /usr/local/lib/python3.10/dist-packages (from sentence_transformers) (2.1.0+cu121)\n",
            "Requirement already satisfied: torchvision in /usr/local/lib/python3.10/dist-packages (from sentence_transformers) (0.16.0+cu121)\n",
            "Requirement already satisfied: numpy in /usr/local/lib/python3.10/dist-packages (from sentence_transformers) (1.23.5)\n",
            "Requirement already satisfied: scikit-learn in /usr/local/lib/python3.10/dist-packages (from sentence_transformers) (1.2.2)\n",
            "Requirement already satisfied: scipy in /usr/local/lib/python3.10/dist-packages (from sentence_transformers) (1.11.4)\n",
            "Requirement already satisfied: nltk in /usr/local/lib/python3.10/dist-packages (from sentence_transformers) (3.8.1)\n",
            "Requirement already satisfied: sentencepiece in /usr/local/lib/python3.10/dist-packages (from sentence_transformers) (0.1.99)\n",
            "Requirement already satisfied: huggingface-hub>=0.4.0 in /usr/local/lib/python3.10/dist-packages (from sentence_transformers) (0.19.4)\n",
            "Requirement already satisfied: filelock in /usr/local/lib/python3.10/dist-packages (from huggingface-hub>=0.4.0->sentence_transformers) (3.13.1)\n",
            "Requirement already satisfied: fsspec>=2023.5.0 in /usr/local/lib/python3.10/dist-packages (from huggingface-hub>=0.4.0->sentence_transformers) (2023.6.0)\n",
            "Requirement already satisfied: requests in /usr/local/lib/python3.10/dist-packages (from huggingface-hub>=0.4.0->sentence_transformers) (2.31.0)\n",
            "Requirement already satisfied: pyyaml>=5.1 in /usr/local/lib/python3.10/dist-packages (from huggingface-hub>=0.4.0->sentence_transformers) (6.0.1)\n",
            "Requirement already satisfied: typing-extensions>=3.7.4.3 in /usr/local/lib/python3.10/dist-packages (from huggingface-hub>=0.4.0->sentence_transformers) (4.5.0)\n",
            "Requirement already satisfied: packaging>=20.9 in /usr/local/lib/python3.10/dist-packages (from huggingface-hub>=0.4.0->sentence_transformers) (23.2)\n",
            "Requirement already satisfied: sympy in /usr/local/lib/python3.10/dist-packages (from torch>=1.6.0->sentence_transformers) (1.12)\n",
            "Requirement already satisfied: networkx in /usr/local/lib/python3.10/dist-packages (from torch>=1.6.0->sentence_transformers) (3.2.1)\n",
            "Requirement already satisfied: jinja2 in /usr/local/lib/python3.10/dist-packages (from torch>=1.6.0->sentence_transformers) (3.1.2)\n",
            "Requirement already satisfied: triton==2.1.0 in /usr/local/lib/python3.10/dist-packages (from torch>=1.6.0->sentence_transformers) (2.1.0)\n",
            "Requirement already satisfied: regex!=2019.12.17 in /usr/local/lib/python3.10/dist-packages (from transformers<5.0.0,>=4.6.0->sentence_transformers) (2023.6.3)\n",
            "Requirement already satisfied: tokenizers<0.19,>=0.14 in /usr/local/lib/python3.10/dist-packages (from transformers<5.0.0,>=4.6.0->sentence_transformers) (0.15.0)\n",
            "Requirement already satisfied: safetensors>=0.3.1 in /usr/local/lib/python3.10/dist-packages (from transformers<5.0.0,>=4.6.0->sentence_transformers) (0.4.1)\n",
            "Requirement already satisfied: click in /usr/local/lib/python3.10/dist-packages (from nltk->sentence_transformers) (8.1.7)\n",
            "Requirement already satisfied: joblib in /usr/local/lib/python3.10/dist-packages (from nltk->sentence_transformers) (1.3.2)\n",
            "Requirement already satisfied: threadpoolctl>=2.0.0 in /usr/local/lib/python3.10/dist-packages (from scikit-learn->sentence_transformers) (3.2.0)\n",
            "Requirement already satisfied: pillow!=8.3.*,>=5.3.0 in /usr/local/lib/python3.10/dist-packages (from torchvision->sentence_transformers) (9.4.0)\n",
            "Requirement already satisfied: MarkupSafe>=2.0 in /usr/local/lib/python3.10/dist-packages (from jinja2->torch>=1.6.0->sentence_transformers) (2.1.3)\n",
            "Requirement already satisfied: charset-normalizer<4,>=2 in /usr/local/lib/python3.10/dist-packages (from requests->huggingface-hub>=0.4.0->sentence_transformers) (3.3.2)\n",
            "Requirement already satisfied: idna<4,>=2.5 in /usr/local/lib/python3.10/dist-packages (from requests->huggingface-hub>=0.4.0->sentence_transformers) (3.6)\n",
            "Requirement already satisfied: urllib3<3,>=1.21.1 in /usr/local/lib/python3.10/dist-packages (from requests->huggingface-hub>=0.4.0->sentence_transformers) (2.0.7)\n",
            "Requirement already satisfied: certifi>=2017.4.17 in /usr/local/lib/python3.10/dist-packages (from requests->huggingface-hub>=0.4.0->sentence_transformers) (2023.11.17)\n",
            "Requirement already satisfied: mpmath>=0.19 in /usr/local/lib/python3.10/dist-packages (from sympy->torch>=1.6.0->sentence_transformers) (1.3.0)\n"
          ]
        }
      ],
      "source": [
        "!pip install sentence_transformers hnswlib"
      ]
    },
    {
      "cell_type": "code",
      "source": [
        "from sentence_transformers import SentenceTransformer\n",
        "import numpy as np\n",
        "\n",
        "model = SentenceTransformer(\"all-MiniLM-L6-v2\")"
      ],
      "metadata": {
        "id": "XtrQHw56Kyh7"
      },
      "execution_count": 64,
      "outputs": []
    },
    {
      "cell_type": "code",
      "source": [
        "paragraphs = [\n",
        "    \"The quick brown fox jumps over the lazy dog.\",\n",
        "    \"Artificial Intelligence has been a subject of intrigue for decades.\",\n",
        "    \"The history of Python dates back to the late 1980s.\",\n",
        "    \"Machine learning and deep learning drive modern AI.\",\n",
        "    \"Natural language processing enables computers to understand human language.\"\n",
        "]"
      ],
      "metadata": {
        "id": "5z0zyiwPK84U"
      },
      "execution_count": 65,
      "outputs": []
    },
    {
      "cell_type": "code",
      "source": [
        "## generate embeddings\n",
        "embeddings = model.encode(paragraphs)"
      ],
      "metadata": {
        "id": "MywGIjoLL_J5"
      },
      "execution_count": 66,
      "outputs": []
    },
    {
      "cell_type": "code",
      "source": [
        "embeddings"
      ],
      "metadata": {
        "colab": {
          "base_uri": "https://localhost:8080/"
        },
        "id": "nLmtPAndL_PS",
        "outputId": "6165ab99-859f-4062-8236-71b1bb87ac6c"
      },
      "execution_count": 67,
      "outputs": [
        {
          "output_type": "execute_result",
          "data": {
            "text/plain": [
              "array([[ 0.04393357,  0.05893441,  0.04817837, ...,  0.05216278,\n",
              "         0.05610648,  0.10206395],\n",
              "       [-0.03982176, -0.04618942,  0.05204437, ...,  0.04973065,\n",
              "        -0.02232705, -0.03882542],\n",
              "       [-0.07098128,  0.06234046, -0.01155042, ...,  0.08019316,\n",
              "         0.12593739, -0.00557179],\n",
              "       [-0.04370016, -0.02541894,  0.07470033, ...,  0.00048776,\n",
              "        -0.01091537, -0.02558111],\n",
              "       [ 0.01383319,  0.01758451,  0.09789698, ...,  0.0888078 ,\n",
              "         0.04175095, -0.05655895]], dtype=float32)"
            ]
          },
          "metadata": {},
          "execution_count": 67
        }
      ]
    },
    {
      "cell_type": "code",
      "source": [
        "import hnswlib"
      ],
      "metadata": {
        "id": "vHr8M9jSL_VU"
      },
      "execution_count": 68,
      "outputs": []
    },
    {
      "cell_type": "code",
      "source": [
        "dim = embeddings.shape[1]"
      ],
      "metadata": {
        "id": "Elky5DCBL_Ys"
      },
      "execution_count": 69,
      "outputs": []
    },
    {
      "cell_type": "code",
      "source": [
        "index = hnswlib.Index(space='l2', dim=dim)"
      ],
      "metadata": {
        "id": "Eppbdx3SOI8c"
      },
      "execution_count": 70,
      "outputs": []
    },
    {
      "cell_type": "code",
      "source": [
        "num_elements = len(paragraphs)\n",
        "num_elements"
      ],
      "metadata": {
        "colab": {
          "base_uri": "https://localhost:8080/"
        },
        "id": "dnjRcIylOI_z",
        "outputId": "8f58cbdf-0883-43c0-91fd-7efe17ba0238"
      },
      "execution_count": 71,
      "outputs": [
        {
          "output_type": "execute_result",
          "data": {
            "text/plain": [
              "5"
            ]
          },
          "metadata": {},
          "execution_count": 71
        }
      ]
    },
    {
      "cell_type": "code",
      "source": [
        "index.init_index(max_elements = num_elements, ef_construction = 200, M=16)"
      ],
      "metadata": {
        "id": "-qZxs_wMOJDZ"
      },
      "execution_count": 72,
      "outputs": []
    },
    {
      "cell_type": "code",
      "source": [
        "## Add embeddings into the index\n",
        "index.add_items(embeddings)"
      ],
      "metadata": {
        "id": "K_Iz1o69OJG1"
      },
      "execution_count": 73,
      "outputs": []
    },
    {
      "cell_type": "markdown",
      "source": [
        "## Querying the index"
      ],
      "metadata": {
        "id": "QWaOz2aYS0Pm"
      }
    },
    {
      "cell_type": "code",
      "source": [
        "query_sentence = \"\"\"Programming languages like Python have revolutionized software development.\"\"\""
      ],
      "metadata": {
        "id": "afH43ChgSn0d"
      },
      "execution_count": 74,
      "outputs": []
    },
    {
      "cell_type": "code",
      "source": [
        "query_embeddings = model.encode([query_sentence])"
      ],
      "metadata": {
        "id": "NHwGi_bDSn3V"
      },
      "execution_count": 75,
      "outputs": []
    },
    {
      "cell_type": "code",
      "source": [
        "query_embeddings"
      ],
      "metadata": {
        "id": "cn0AreBzSn5q",
        "colab": {
          "base_uri": "https://localhost:8080/"
        },
        "outputId": "5fe924ca-bc85-47ef-829b-b08ae3d8f1fa"
      },
      "execution_count": 76,
      "outputs": [
        {
          "output_type": "execute_result",
          "data": {
            "text/plain": [
              "array([[-4.59310785e-02,  1.83310006e-02,  2.57418025e-03,\n",
              "        -1.44904777e-02, -1.84436701e-02, -1.00386195e-01,\n",
              "        -6.48503974e-02,  7.90280998e-02, -2.97525302e-02,\n",
              "         1.35972269e-03, -4.24500480e-02,  8.39786008e-02,\n",
              "         5.56984097e-02,  6.12994134e-02,  1.05870940e-01,\n",
              "        -1.14700850e-02, -1.24172010e-01, -4.78642440e-04,\n",
              "         1.34229276e-03, -1.48092762e-01, -7.82493204e-02,\n",
              "         2.85891052e-02, -3.11407875e-02,  5.28335245e-03,\n",
              "         5.07411174e-02,  3.10762115e-02, -3.25762108e-02,\n",
              "        -7.38456771e-02,  3.29431705e-02, -7.08286045e-03,\n",
              "        -2.46721804e-02,  1.26768455e-01,  1.04941586e-02,\n",
              "         3.21094552e-03, -2.35699918e-02,  4.69452813e-02,\n",
              "         2.01502852e-02, -9.28587317e-02, -4.88838255e-02,\n",
              "        -7.49020511e-03, -7.33811408e-02,  3.10553052e-02,\n",
              "        -2.61964444e-02, -4.64291573e-02, -4.83276099e-02,\n",
              "        -2.26198342e-02, -3.54987346e-02, -3.07110064e-02,\n",
              "        -4.67181690e-02, -1.62887964e-02, -7.66932517e-02,\n",
              "        -3.94008905e-02, -1.79207753e-02, -1.36343822e-01,\n",
              "         1.50386430e-03, -4.42058444e-02,  6.01017028e-02,\n",
              "        -1.54509991e-02,  3.36126648e-02, -1.09347194e-01,\n",
              "        -5.96485846e-02, -1.22554656e-02, -5.10957977e-03,\n",
              "         8.67522731e-02, -4.54835370e-02, -9.74505767e-03,\n",
              "         6.99183845e-04,  8.04537162e-03,  5.28757051e-02,\n",
              "         1.50867524e-02, -8.48876759e-02, -3.47966366e-02,\n",
              "         1.61838774e-02,  4.62115332e-02,  8.18142146e-02,\n",
              "        -5.94168939e-02,  4.36172113e-02, -1.24693830e-02,\n",
              "         1.19008152e-02, -5.99647574e-02,  4.26202416e-02,\n",
              "         5.09160664e-03, -4.35123965e-02,  1.02420159e-01,\n",
              "        -1.18539063e-02, -7.51435198e-03,  3.43906954e-02,\n",
              "         5.72732948e-02, -2.52206400e-02, -1.67554189e-02,\n",
              "         2.93653626e-02, -3.35398726e-02,  2.37037092e-02,\n",
              "        -4.88397107e-03, -5.29273860e-02,  3.27325575e-02,\n",
              "         1.05635468e-02, -5.64285181e-02, -6.95623574e-04,\n",
              "         5.90233840e-02, -3.70695405e-02, -6.19697981e-02,\n",
              "         6.79031238e-02, -5.85606359e-02,  6.27593026e-02,\n",
              "         8.13595485e-03,  9.41661745e-02, -2.61194352e-02,\n",
              "         5.38171828e-02, -2.69284975e-02, -3.59325968e-02,\n",
              "        -6.77489862e-03,  5.31959534e-03, -4.63474616e-02,\n",
              "         3.91051844e-02,  4.10815328e-02, -2.63289344e-02,\n",
              "         7.72491395e-02,  7.19011156e-03,  3.96143906e-02,\n",
              "         7.57158250e-02,  1.80140696e-02, -3.53551134e-02,\n",
              "         9.29014105e-03, -6.84945425e-03,  1.06671015e-02,\n",
              "        -2.72470992e-02, -3.59476385e-33, -1.98411588e-02,\n",
              "        -2.96845362e-02,  2.29881108e-02,  6.10190481e-02,\n",
              "         6.53323382e-02, -1.33893304e-02,  6.61709085e-02,\n",
              "         3.63204442e-02, -3.37966047e-02, -9.94944721e-02,\n",
              "         5.75552396e-02,  7.76113570e-02, -6.38527097e-03,\n",
              "         4.24830429e-02,  5.42759784e-02, -4.70155068e-02,\n",
              "         3.44260246e-03,  5.11351451e-02,  1.37324929e-02,\n",
              "        -1.79845337e-02,  5.07868715e-02, -1.31624751e-03,\n",
              "         5.48409224e-02,  2.17755474e-02,  3.62300575e-02,\n",
              "        -5.66994585e-03,  2.42368169e-02, -3.63770407e-03,\n",
              "         3.42582092e-02,  3.72145288e-02, -6.38234988e-02,\n",
              "        -4.88158129e-03, -6.64395392e-02,  4.32175659e-02,\n",
              "         1.18909786e-02,  2.12830622e-02, -1.52160842e-02,\n",
              "        -1.15008608e-01,  7.61020854e-02,  4.94479872e-02,\n",
              "        -4.32971939e-02,  4.05770168e-02, -2.66247410e-02,\n",
              "        -4.85612974e-02,  4.26752307e-02,  4.29534838e-02,\n",
              "         2.36195009e-02,  2.42071133e-02, -4.69132811e-02,\n",
              "        -3.73993367e-02, -2.53520105e-02,  2.40912978e-02,\n",
              "         4.49016690e-02,  6.98318034e-02,  3.50425616e-02,\n",
              "         2.14258712e-02,  1.71044048e-05,  5.73547790e-03,\n",
              "        -1.59963425e-02, -4.36426587e-02, -1.08626680e-02,\n",
              "         9.33319516e-03,  4.25337777e-02, -5.30596003e-02,\n",
              "         5.50340675e-02,  3.73814367e-02,  7.10008442e-02,\n",
              "         7.19281211e-02,  5.62174916e-02,  7.67816082e-02,\n",
              "        -5.66134378e-02,  3.72267365e-02, -7.83543065e-02,\n",
              "         2.37253588e-02, -2.43759993e-02, -1.57652441e-02,\n",
              "         4.67618555e-02, -1.13918290e-01,  5.78670315e-02,\n",
              "         3.51120830e-02, -8.88913497e-02,  2.12882906e-02,\n",
              "        -3.39542446e-03, -1.91823561e-02,  6.82491288e-02,\n",
              "        -3.01572941e-02,  4.69753183e-02,  6.53518215e-02,\n",
              "        -3.73296509e-03, -2.18778681e-02, -4.77578938e-02,\n",
              "        -9.72588137e-02,  5.84738329e-02,  4.65459339e-02,\n",
              "        -1.19539201e-02,  1.65399990e-33, -4.93970513e-02,\n",
              "        -2.31694132e-02, -9.02666003e-02,  9.98425037e-02,\n",
              "        -8.84408727e-02, -8.00644681e-02,  4.04476896e-02,\n",
              "        -2.17630193e-02, -1.30523738e-04,  2.58070137e-02,\n",
              "         5.19840606e-02, -5.91157004e-02,  5.78524806e-02,\n",
              "         4.25519869e-02,  3.11267246e-02,  2.61736903e-02,\n",
              "        -2.44148001e-02, -1.53401075e-02, -2.36075558e-03,\n",
              "         2.91620847e-02, -5.71110733e-02,  3.25455107e-02,\n",
              "        -6.50519580e-02, -5.21686450e-02,  3.71282995e-02,\n",
              "        -2.78560892e-02, -9.54708308e-02, -3.65875289e-02,\n",
              "         6.71351887e-03,  5.19429184e-02,  1.98696889e-02,\n",
              "         5.66995181e-02, -9.31397825e-02,  4.93136086e-02,\n",
              "         5.09126894e-02, -4.48272331e-03, -2.28359713e-04,\n",
              "        -5.46347946e-02, -1.25648668e-02, -1.19586587e-02,\n",
              "         8.69899094e-02, -8.89626611e-03,  2.76634805e-02,\n",
              "         5.98426275e-02,  1.91349387e-02,  2.89526731e-02,\n",
              "        -4.81089577e-02,  7.05306977e-02,  1.35663501e-03,\n",
              "        -1.08595118e-01,  7.62161762e-02,  1.36927115e-02,\n",
              "         2.82714833e-02, -1.09578118e-01, -3.05879507e-02,\n",
              "        -4.62576710e-02,  1.11617923e-01, -2.19805092e-02,\n",
              "        -8.89126733e-02,  1.25654053e-03, -8.15540627e-02,\n",
              "        -3.89679968e-02,  9.74215269e-02, -4.61985134e-02,\n",
              "        -3.13395225e-02,  6.21609576e-02, -8.90833661e-02,\n",
              "        -1.68710051e-03, -1.11316815e-01, -1.11626871e-01,\n",
              "         1.04230367e-01, -4.10554633e-02, -7.67682046e-02,\n",
              "         5.65928705e-02, -9.05591026e-02,  3.24065201e-02,\n",
              "         5.32039953e-03, -3.27260345e-02, -9.36507061e-02,\n",
              "        -2.08944385e-03,  6.61911517e-02,  2.66796593e-02,\n",
              "         1.63310282e-02,  1.62927564e-02, -7.43270516e-02,\n",
              "         7.25260004e-02, -1.24772675e-02,  3.98477074e-03,\n",
              "         1.19097540e-02, -1.56343486e-02, -6.10173419e-02,\n",
              "         4.34718020e-02,  4.08285819e-02,  2.77025085e-02,\n",
              "        -1.95089355e-02, -1.47760231e-08, -3.18140388e-02,\n",
              "         2.72288769e-02,  3.21561694e-02,  5.68862632e-02,\n",
              "         2.20328830e-02,  6.38466850e-02, -2.19002608e-02,\n",
              "         4.15289477e-02, -4.36641127e-02,  6.24648482e-02,\n",
              "        -1.90843493e-02,  1.07459016e-02, -2.69600772e-03,\n",
              "         1.37028266e-02,  5.35367206e-02,  1.34065673e-01,\n",
              "        -4.93743159e-02, -2.69282218e-02, -3.28658940e-03,\n",
              "         2.76131481e-02,  3.43439505e-02,  1.68553758e-02,\n",
              "        -3.65986228e-02,  3.16331089e-02, -1.01163335e-01,\n",
              "        -4.49886061e-02,  5.14500774e-03,  8.90921243e-03,\n",
              "         3.30334418e-02, -6.54141828e-02,  2.44359616e-02,\n",
              "        -6.99771643e-02, -1.36098790e-03,  5.37485406e-02,\n",
              "         9.56212506e-02, -2.39946134e-02,  3.20845470e-02,\n",
              "        -4.51790728e-02,  1.33714639e-02, -2.93357056e-02,\n",
              "        -2.46101758e-03,  3.55265215e-02,  4.08020010e-03,\n",
              "         2.64495537e-02, -5.04094874e-03, -1.65394284e-02,\n",
              "        -2.78885067e-02,  3.36594356e-04, -2.68161427e-02,\n",
              "        -3.89475711e-02, -1.57806762e-02, -1.11033330e-02,\n",
              "         5.43525722e-03, -2.97916718e-02,  8.21812451e-02,\n",
              "         3.99857089e-02, -1.04513466e-01, -4.65827137e-02,\n",
              "        -3.26482840e-02,  5.65965883e-02, -2.67141871e-02,\n",
              "         7.49737397e-02,  1.67934284e-01,  1.10597806e-02]], dtype=float32)"
            ]
          },
          "metadata": {},
          "execution_count": 76
        }
      ]
    },
    {
      "cell_type": "code",
      "source": [
        "# Query the index\n",
        "k = 2\n",
        "labels, distances = index.knn_query(query_embeddings, k=k)"
      ],
      "metadata": {
        "id": "u4LorZuhSn9N"
      },
      "execution_count": 77,
      "outputs": []
    },
    {
      "cell_type": "code",
      "source": [
        "print(\"Query:\", query_sentence)\n",
        "for label, distance in zip(labels[0], distances[0]):\n",
        "  print(f\"Paragraph: {paragraphs[label]}, Distance: {distance}\")"
      ],
      "metadata": {
        "colab": {
          "base_uri": "https://localhost:8080/"
        },
        "id": "ppa9qroJSoJv",
        "outputId": "ee286202-006b-4b65-c31e-a5f3dd4f27dd"
      },
      "execution_count": 78,
      "outputs": [
        {
          "output_type": "stream",
          "name": "stdout",
          "text": [
            "Query: Programming languages like Python have revolutionized software development.\n",
            "Paragraph: The history of Python dates back to the late 1980s., Distance: 0.7363049387931824\n",
            "Paragraph: Artificial Intelligence has been a subject of intrigue for decades., Distance: 1.315548062324524\n"
          ]
        }
      ]
    },
    {
      "cell_type": "markdown",
      "source": [
        "### Resuts interpretation\n",
        "\n",
        "Lower Score = Closer Match"
      ],
      "metadata": {
        "id": "KXZSognFXefB"
      }
    },
    {
      "cell_type": "markdown",
      "source": [
        "## Google ScaNN\n",
        "\n",
        "Scalable Nearest Neighbors.\n",
        "\n",
        "Designed for efficient vector similarity search at scale. Suited for handling very large datasets. Leverages techniques like vector compression and quantization to speed up the search process.\n",
        "\n",
        "Features:\n",
        "\n",
        "1. Parttioning: Dividing the datasets into smaller, more mmangeable clusters.\n",
        "\n",
        "2. Quantization: Approximating high-dim vectors with compact, lower-dim representations.\n",
        "\n",
        "3. Scoring: Using efficient algos to comput ANN."
      ],
      "metadata": {
        "id": "lNuTmyYYY6LB"
      }
    },
    {
      "cell_type": "code",
      "source": [
        "!pip install scann"
      ],
      "metadata": {
        "id": "4U1N_gFiUu-5",
        "colab": {
          "base_uri": "https://localhost:8080/"
        },
        "outputId": "9fd3ab02-7eaf-4647-f57c-ab5d05dab760"
      },
      "execution_count": 79,
      "outputs": [
        {
          "output_type": "stream",
          "name": "stdout",
          "text": [
            "Requirement already satisfied: scann in /usr/local/lib/python3.10/dist-packages (1.2.10)\n",
            "Requirement already satisfied: tensorflow~=2.13.0 in /usr/local/lib/python3.10/dist-packages (from scann) (2.13.1)\n",
            "Requirement already satisfied: numpy in /usr/local/lib/python3.10/dist-packages (from scann) (1.23.5)\n",
            "Requirement already satisfied: absl-py>=1.0.0 in /usr/local/lib/python3.10/dist-packages (from tensorflow~=2.13.0->scann) (1.4.0)\n",
            "Requirement already satisfied: astunparse>=1.6.0 in /usr/local/lib/python3.10/dist-packages (from tensorflow~=2.13.0->scann) (1.6.3)\n",
            "Requirement already satisfied: flatbuffers>=23.1.21 in /usr/local/lib/python3.10/dist-packages (from tensorflow~=2.13.0->scann) (23.5.26)\n",
            "Requirement already satisfied: gast<=0.4.0,>=0.2.1 in /usr/local/lib/python3.10/dist-packages (from tensorflow~=2.13.0->scann) (0.4.0)\n",
            "Requirement already satisfied: google-pasta>=0.1.1 in /usr/local/lib/python3.10/dist-packages (from tensorflow~=2.13.0->scann) (0.2.0)\n",
            "Requirement already satisfied: grpcio<2.0,>=1.24.3 in /usr/local/lib/python3.10/dist-packages (from tensorflow~=2.13.0->scann) (1.60.0)\n",
            "Requirement already satisfied: h5py>=2.9.0 in /usr/local/lib/python3.10/dist-packages (from tensorflow~=2.13.0->scann) (3.9.0)\n",
            "Requirement already satisfied: keras<2.14,>=2.13.1 in /usr/local/lib/python3.10/dist-packages (from tensorflow~=2.13.0->scann) (2.13.1)\n",
            "Requirement already satisfied: libclang>=13.0.0 in /usr/local/lib/python3.10/dist-packages (from tensorflow~=2.13.0->scann) (16.0.6)\n",
            "Requirement already satisfied: opt-einsum>=2.3.2 in /usr/local/lib/python3.10/dist-packages (from tensorflow~=2.13.0->scann) (3.3.0)\n",
            "Requirement already satisfied: packaging in /usr/local/lib/python3.10/dist-packages (from tensorflow~=2.13.0->scann) (23.2)\n",
            "Requirement already satisfied: protobuf!=4.21.0,!=4.21.1,!=4.21.2,!=4.21.3,!=4.21.4,!=4.21.5,<5.0.0dev,>=3.20.3 in /usr/local/lib/python3.10/dist-packages (from tensorflow~=2.13.0->scann) (3.20.3)\n",
            "Requirement already satisfied: setuptools in /usr/local/lib/python3.10/dist-packages (from tensorflow~=2.13.0->scann) (67.7.2)\n",
            "Requirement already satisfied: six>=1.12.0 in /usr/local/lib/python3.10/dist-packages (from tensorflow~=2.13.0->scann) (1.16.0)\n",
            "Requirement already satisfied: tensorboard<2.14,>=2.13 in /usr/local/lib/python3.10/dist-packages (from tensorflow~=2.13.0->scann) (2.13.0)\n",
            "Requirement already satisfied: tensorflow-estimator<2.14,>=2.13.0 in /usr/local/lib/python3.10/dist-packages (from tensorflow~=2.13.0->scann) (2.13.0)\n",
            "Requirement already satisfied: termcolor>=1.1.0 in /usr/local/lib/python3.10/dist-packages (from tensorflow~=2.13.0->scann) (2.4.0)\n",
            "Requirement already satisfied: typing-extensions<4.6.0,>=3.6.6 in /usr/local/lib/python3.10/dist-packages (from tensorflow~=2.13.0->scann) (4.5.0)\n",
            "Requirement already satisfied: wrapt>=1.11.0 in /usr/local/lib/python3.10/dist-packages (from tensorflow~=2.13.0->scann) (1.14.1)\n",
            "Requirement already satisfied: tensorflow-io-gcs-filesystem>=0.23.1 in /usr/local/lib/python3.10/dist-packages (from tensorflow~=2.13.0->scann) (0.34.0)\n",
            "Requirement already satisfied: wheel<1.0,>=0.23.0 in /usr/local/lib/python3.10/dist-packages (from astunparse>=1.6.0->tensorflow~=2.13.0->scann) (0.42.0)\n",
            "Requirement already satisfied: google-auth<3,>=1.6.3 in /usr/local/lib/python3.10/dist-packages (from tensorboard<2.14,>=2.13->tensorflow~=2.13.0->scann) (2.17.3)\n",
            "Requirement already satisfied: google-auth-oauthlib<1.1,>=0.5 in /usr/local/lib/python3.10/dist-packages (from tensorboard<2.14,>=2.13->tensorflow~=2.13.0->scann) (1.0.0)\n",
            "Requirement already satisfied: markdown>=2.6.8 in /usr/local/lib/python3.10/dist-packages (from tensorboard<2.14,>=2.13->tensorflow~=2.13.0->scann) (3.5.1)\n",
            "Requirement already satisfied: requests<3,>=2.21.0 in /usr/local/lib/python3.10/dist-packages (from tensorboard<2.14,>=2.13->tensorflow~=2.13.0->scann) (2.31.0)\n",
            "Requirement already satisfied: tensorboard-data-server<0.8.0,>=0.7.0 in /usr/local/lib/python3.10/dist-packages (from tensorboard<2.14,>=2.13->tensorflow~=2.13.0->scann) (0.7.2)\n",
            "Requirement already satisfied: werkzeug>=1.0.1 in /usr/local/lib/python3.10/dist-packages (from tensorboard<2.14,>=2.13->tensorflow~=2.13.0->scann) (3.0.1)\n",
            "Requirement already satisfied: cachetools<6.0,>=2.0.0 in /usr/local/lib/python3.10/dist-packages (from google-auth<3,>=1.6.3->tensorboard<2.14,>=2.13->tensorflow~=2.13.0->scann) (5.3.2)\n",
            "Requirement already satisfied: pyasn1-modules>=0.2.1 in /usr/local/lib/python3.10/dist-packages (from google-auth<3,>=1.6.3->tensorboard<2.14,>=2.13->tensorflow~=2.13.0->scann) (0.3.0)\n",
            "Requirement already satisfied: rsa<5,>=3.1.4 in /usr/local/lib/python3.10/dist-packages (from google-auth<3,>=1.6.3->tensorboard<2.14,>=2.13->tensorflow~=2.13.0->scann) (4.9)\n",
            "Requirement already satisfied: requests-oauthlib>=0.7.0 in /usr/local/lib/python3.10/dist-packages (from google-auth-oauthlib<1.1,>=0.5->tensorboard<2.14,>=2.13->tensorflow~=2.13.0->scann) (1.3.1)\n",
            "Requirement already satisfied: charset-normalizer<4,>=2 in /usr/local/lib/python3.10/dist-packages (from requests<3,>=2.21.0->tensorboard<2.14,>=2.13->tensorflow~=2.13.0->scann) (3.3.2)\n",
            "Requirement already satisfied: idna<4,>=2.5 in /usr/local/lib/python3.10/dist-packages (from requests<3,>=2.21.0->tensorboard<2.14,>=2.13->tensorflow~=2.13.0->scann) (3.6)\n",
            "Requirement already satisfied: urllib3<3,>=1.21.1 in /usr/local/lib/python3.10/dist-packages (from requests<3,>=2.21.0->tensorboard<2.14,>=2.13->tensorflow~=2.13.0->scann) (2.0.7)\n",
            "Requirement already satisfied: certifi>=2017.4.17 in /usr/local/lib/python3.10/dist-packages (from requests<3,>=2.21.0->tensorboard<2.14,>=2.13->tensorflow~=2.13.0->scann) (2023.11.17)\n",
            "Requirement already satisfied: MarkupSafe>=2.1.1 in /usr/local/lib/python3.10/dist-packages (from werkzeug>=1.0.1->tensorboard<2.14,>=2.13->tensorflow~=2.13.0->scann) (2.1.3)\n",
            "Requirement already satisfied: pyasn1<0.6.0,>=0.4.6 in /usr/local/lib/python3.10/dist-packages (from pyasn1-modules>=0.2.1->google-auth<3,>=1.6.3->tensorboard<2.14,>=2.13->tensorflow~=2.13.0->scann) (0.5.1)\n",
            "Requirement already satisfied: oauthlib>=3.0.0 in /usr/local/lib/python3.10/dist-packages (from requests-oauthlib>=0.7.0->google-auth-oauthlib<1.1,>=0.5->tensorboard<2.14,>=2.13->tensorflow~=2.13.0->scann) (3.2.2)\n"
          ]
        }
      ]
    },
    {
      "cell_type": "code",
      "source": [
        "extended_paragraphs = [\n",
        "    \"The quick brown fox jumps over the lazy dog.\",\n",
        "    \"Artificial Intelligence has been a subject of intrigue for decades.\",\n",
        "    \"The history of Python dates back to the late 1980s.\",\n",
        "    \"Machine learning and deep learning drive modern AI.\",\n",
        "    \"Natural language processing enables computers to understand human language.\",\n",
        "    \"Climate change is impacting ecosystems worldwide.\",\n",
        "    \"The exploration of Mars has revealed much about the history of the planet.\",\n",
        "    \"Quantum computing holds the potential to revolutionize technology.\",\n",
        "    \"Blockchain technology is transforming digital transactions.\",\n",
        "    \"Renewable energy sources are becoming increasingly vital.\",\n",
        "    \"The study of genetics has advanced our understanding of human health.\",\n",
        "    \"Autonomous vehicles could reshape transportation.\",\n",
        "    \"Virtual reality offers new possibilities in gaming and education.\",\n",
        "    \"The Internet of Things connects everyday devices to the web.\",\n",
        "    \"Cybersecurity is crucial in the digital age.\",\n",
        "    \"3D printing is changing manufacturing processes.\",\n",
        "    \"Augmented reality blends the digital and physical worlds.\",\n",
        "    \"Big data analytics helps in understanding complex patterns.\",\n",
        "    \"The human brain is an intricate organ still being studied.\",\n",
        "    \"Advances in medicine are prolonging life expectancy.\",\n",
        "    \"Robotics technology is automating various industries.\",\n",
        "    \"Sustainable farming practices are essential for food security.\",\n",
        "    \"The psychology of motivation is a complex study.\",\n",
        "    \"Urban planning is key to sustainable city development.\",\n",
        "    \"The art world continuously evolves with cultural shifts.\",\n",
        "    \"Conservation efforts are crucial for endangered species.\",\n",
        "    \"Space travel has always captivated human imagination.\",\n",
        "    \"Nanotechnology is finding applications in multiple fields.\",\n",
        "    \"Philosophy challenges our understanding of existence.\",\n",
        "    \"Mathematics is the language of the universe.\",\n",
        "    \"Literature reflects the human condition in diverse ways.\",\n",
        "    \"The history of cinema offers insight into cultural changes.\",\n",
        "    \"Music is a universal language that transcends boundaries.\",\n",
        "    \"Photography captures moments and tells stories.\",\n",
        "    \"Oceanography is essential for understanding marine ecosystems.\",\n",
        "    \"Sports bring people together across the world.\",\n",
        "    \"Cooking is both an art and a science.\",\n",
        "    \"Fashion reflects both personal style and cultural trends.\",\n",
        "    \"Architecture combines functionality with aesthetics.\",\n",
        "    \"Linguistics explores the structure and evolution of language.\",\n",
        "    \"Anthropology studies human societies and cultural diversity.\",\n",
        "    \"The immune system is vital for human health.\",\n",
        "    \"Astrophysics seeks to understand the universe's workings.\",\n",
        "    \"Psychiatry plays a crucial role in mental health.\",\n",
        "    \"Geology helps us understand Earth's history and future.\",\n",
        "    \"The digital revolution has transformed how we communicate.\",\n",
        "    \"Environmental science is key to addressing ecological issues.\",\n",
        "    \"Astronomy has been practiced since ancient times.\",\n",
        "    \"Sociology examines the behavior of societies.\",\n",
        "    \"Biotechnology is advancing the capabilities of medical treatment.\"\n",
        "]"
      ],
      "metadata": {
        "id": "T5N_MbA0UvEf"
      },
      "execution_count": 80,
      "outputs": []
    },
    {
      "cell_type": "code",
      "source": [
        "embeddings = np.array(model.encode(extended_paragraphs))"
      ],
      "metadata": {
        "id": "MPsJJelElKhK"
      },
      "execution_count": 81,
      "outputs": []
    },
    {
      "cell_type": "code",
      "source": [
        "print(\"Number of embeddings:\", embeddings.shape[0])"
      ],
      "metadata": {
        "colab": {
          "base_uri": "https://localhost:8080/"
        },
        "id": "VPUmNMGblKjU",
        "outputId": "fc55dfbb-d313-41ad-d40b-e944041845b4"
      },
      "execution_count": 82,
      "outputs": [
        {
          "output_type": "stream",
          "name": "stdout",
          "text": [
            "Number of embeddings: 50\n"
          ]
        }
      ]
    },
    {
      "cell_type": "code",
      "source": [
        "embeddings"
      ],
      "metadata": {
        "colab": {
          "base_uri": "https://localhost:8080/"
        },
        "id": "PGQ8mJ3YlKlx",
        "outputId": "faccdba9-3651-4fa5-b852-81ecfd0f03e3"
      },
      "execution_count": 83,
      "outputs": [
        {
          "output_type": "execute_result",
          "data": {
            "text/plain": [
              "array([[ 0.04393357,  0.05893441,  0.04817837, ...,  0.05216278,\n",
              "         0.05610648,  0.10206395],\n",
              "       [-0.03982176, -0.04618944,  0.05204437, ...,  0.04973065,\n",
              "        -0.02232707, -0.03882541],\n",
              "       [-0.07098126,  0.06234047, -0.01155042, ...,  0.08019315,\n",
              "         0.12593739, -0.00557179],\n",
              "       ...,\n",
              "       [ 0.02637684,  0.02016133,  0.02142278, ...,  0.00266602,\n",
              "        -0.051114  ,  0.02646729],\n",
              "       [-0.00185669,  0.02726151, -0.09919582, ...,  0.04235468,\n",
              "         0.06581975, -0.07125171],\n",
              "       [ 0.01416314,  0.00176452, -0.04424744, ..., -0.0820567 ,\n",
              "         0.13389045, -0.03259734]], dtype=float32)"
            ]
          },
          "metadata": {},
          "execution_count": 83
        }
      ]
    },
    {
      "cell_type": "code",
      "source": [
        "import scann"
      ],
      "metadata": {
        "id": "gQcKF4eclKn9"
      },
      "execution_count": 84,
      "outputs": []
    },
    {
      "cell_type": "code",
      "source": [
        "searcher = scann.scann_ops_pybind.builder(embeddings, 10, \"dot_product\").tree(num_leaves=10, num_leaves_to_search=5,\n",
        "                                                                             training_sample_size=50).score_ah(2, anisotropic_quantization_threshold=0.2).reorder(100).build()"
      ],
      "metadata": {
        "id": "YkYnV8KflKqk"
      },
      "execution_count": 85,
      "outputs": []
    },
    {
      "cell_type": "code",
      "source": [
        "query_embeddings = model.encode([query_sentence])"
      ],
      "metadata": {
        "id": "ghn8b4RZlKtr"
      },
      "execution_count": 86,
      "outputs": []
    },
    {
      "cell_type": "code",
      "source": [
        "query_embeddings"
      ],
      "metadata": {
        "id": "X2ptnzexlKwF",
        "colab": {
          "base_uri": "https://localhost:8080/"
        },
        "outputId": "1126f599-f9a8-43db-a6fb-913669ee2f13"
      },
      "execution_count": 87,
      "outputs": [
        {
          "output_type": "execute_result",
          "data": {
            "text/plain": [
              "array([[-4.59310785e-02,  1.83310006e-02,  2.57418025e-03,\n",
              "        -1.44904777e-02, -1.84436701e-02, -1.00386195e-01,\n",
              "        -6.48503974e-02,  7.90280998e-02, -2.97525302e-02,\n",
              "         1.35972269e-03, -4.24500480e-02,  8.39786008e-02,\n",
              "         5.56984097e-02,  6.12994134e-02,  1.05870940e-01,\n",
              "        -1.14700850e-02, -1.24172010e-01, -4.78642440e-04,\n",
              "         1.34229276e-03, -1.48092762e-01, -7.82493204e-02,\n",
              "         2.85891052e-02, -3.11407875e-02,  5.28335245e-03,\n",
              "         5.07411174e-02,  3.10762115e-02, -3.25762108e-02,\n",
              "        -7.38456771e-02,  3.29431705e-02, -7.08286045e-03,\n",
              "        -2.46721804e-02,  1.26768455e-01,  1.04941586e-02,\n",
              "         3.21094552e-03, -2.35699918e-02,  4.69452813e-02,\n",
              "         2.01502852e-02, -9.28587317e-02, -4.88838255e-02,\n",
              "        -7.49020511e-03, -7.33811408e-02,  3.10553052e-02,\n",
              "        -2.61964444e-02, -4.64291573e-02, -4.83276099e-02,\n",
              "        -2.26198342e-02, -3.54987346e-02, -3.07110064e-02,\n",
              "        -4.67181690e-02, -1.62887964e-02, -7.66932517e-02,\n",
              "        -3.94008905e-02, -1.79207753e-02, -1.36343822e-01,\n",
              "         1.50386430e-03, -4.42058444e-02,  6.01017028e-02,\n",
              "        -1.54509991e-02,  3.36126648e-02, -1.09347194e-01,\n",
              "        -5.96485846e-02, -1.22554656e-02, -5.10957977e-03,\n",
              "         8.67522731e-02, -4.54835370e-02, -9.74505767e-03,\n",
              "         6.99183845e-04,  8.04537162e-03,  5.28757051e-02,\n",
              "         1.50867524e-02, -8.48876759e-02, -3.47966366e-02,\n",
              "         1.61838774e-02,  4.62115332e-02,  8.18142146e-02,\n",
              "        -5.94168939e-02,  4.36172113e-02, -1.24693830e-02,\n",
              "         1.19008152e-02, -5.99647574e-02,  4.26202416e-02,\n",
              "         5.09160664e-03, -4.35123965e-02,  1.02420159e-01,\n",
              "        -1.18539063e-02, -7.51435198e-03,  3.43906954e-02,\n",
              "         5.72732948e-02, -2.52206400e-02, -1.67554189e-02,\n",
              "         2.93653626e-02, -3.35398726e-02,  2.37037092e-02,\n",
              "        -4.88397107e-03, -5.29273860e-02,  3.27325575e-02,\n",
              "         1.05635468e-02, -5.64285181e-02, -6.95623574e-04,\n",
              "         5.90233840e-02, -3.70695405e-02, -6.19697981e-02,\n",
              "         6.79031238e-02, -5.85606359e-02,  6.27593026e-02,\n",
              "         8.13595485e-03,  9.41661745e-02, -2.61194352e-02,\n",
              "         5.38171828e-02, -2.69284975e-02, -3.59325968e-02,\n",
              "        -6.77489862e-03,  5.31959534e-03, -4.63474616e-02,\n",
              "         3.91051844e-02,  4.10815328e-02, -2.63289344e-02,\n",
              "         7.72491395e-02,  7.19011156e-03,  3.96143906e-02,\n",
              "         7.57158250e-02,  1.80140696e-02, -3.53551134e-02,\n",
              "         9.29014105e-03, -6.84945425e-03,  1.06671015e-02,\n",
              "        -2.72470992e-02, -3.59476385e-33, -1.98411588e-02,\n",
              "        -2.96845362e-02,  2.29881108e-02,  6.10190481e-02,\n",
              "         6.53323382e-02, -1.33893304e-02,  6.61709085e-02,\n",
              "         3.63204442e-02, -3.37966047e-02, -9.94944721e-02,\n",
              "         5.75552396e-02,  7.76113570e-02, -6.38527097e-03,\n",
              "         4.24830429e-02,  5.42759784e-02, -4.70155068e-02,\n",
              "         3.44260246e-03,  5.11351451e-02,  1.37324929e-02,\n",
              "        -1.79845337e-02,  5.07868715e-02, -1.31624751e-03,\n",
              "         5.48409224e-02,  2.17755474e-02,  3.62300575e-02,\n",
              "        -5.66994585e-03,  2.42368169e-02, -3.63770407e-03,\n",
              "         3.42582092e-02,  3.72145288e-02, -6.38234988e-02,\n",
              "        -4.88158129e-03, -6.64395392e-02,  4.32175659e-02,\n",
              "         1.18909786e-02,  2.12830622e-02, -1.52160842e-02,\n",
              "        -1.15008608e-01,  7.61020854e-02,  4.94479872e-02,\n",
              "        -4.32971939e-02,  4.05770168e-02, -2.66247410e-02,\n",
              "        -4.85612974e-02,  4.26752307e-02,  4.29534838e-02,\n",
              "         2.36195009e-02,  2.42071133e-02, -4.69132811e-02,\n",
              "        -3.73993367e-02, -2.53520105e-02,  2.40912978e-02,\n",
              "         4.49016690e-02,  6.98318034e-02,  3.50425616e-02,\n",
              "         2.14258712e-02,  1.71044048e-05,  5.73547790e-03,\n",
              "        -1.59963425e-02, -4.36426587e-02, -1.08626680e-02,\n",
              "         9.33319516e-03,  4.25337777e-02, -5.30596003e-02,\n",
              "         5.50340675e-02,  3.73814367e-02,  7.10008442e-02,\n",
              "         7.19281211e-02,  5.62174916e-02,  7.67816082e-02,\n",
              "        -5.66134378e-02,  3.72267365e-02, -7.83543065e-02,\n",
              "         2.37253588e-02, -2.43759993e-02, -1.57652441e-02,\n",
              "         4.67618555e-02, -1.13918290e-01,  5.78670315e-02,\n",
              "         3.51120830e-02, -8.88913497e-02,  2.12882906e-02,\n",
              "        -3.39542446e-03, -1.91823561e-02,  6.82491288e-02,\n",
              "        -3.01572941e-02,  4.69753183e-02,  6.53518215e-02,\n",
              "        -3.73296509e-03, -2.18778681e-02, -4.77578938e-02,\n",
              "        -9.72588137e-02,  5.84738329e-02,  4.65459339e-02,\n",
              "        -1.19539201e-02,  1.65399990e-33, -4.93970513e-02,\n",
              "        -2.31694132e-02, -9.02666003e-02,  9.98425037e-02,\n",
              "        -8.84408727e-02, -8.00644681e-02,  4.04476896e-02,\n",
              "        -2.17630193e-02, -1.30523738e-04,  2.58070137e-02,\n",
              "         5.19840606e-02, -5.91157004e-02,  5.78524806e-02,\n",
              "         4.25519869e-02,  3.11267246e-02,  2.61736903e-02,\n",
              "        -2.44148001e-02, -1.53401075e-02, -2.36075558e-03,\n",
              "         2.91620847e-02, -5.71110733e-02,  3.25455107e-02,\n",
              "        -6.50519580e-02, -5.21686450e-02,  3.71282995e-02,\n",
              "        -2.78560892e-02, -9.54708308e-02, -3.65875289e-02,\n",
              "         6.71351887e-03,  5.19429184e-02,  1.98696889e-02,\n",
              "         5.66995181e-02, -9.31397825e-02,  4.93136086e-02,\n",
              "         5.09126894e-02, -4.48272331e-03, -2.28359713e-04,\n",
              "        -5.46347946e-02, -1.25648668e-02, -1.19586587e-02,\n",
              "         8.69899094e-02, -8.89626611e-03,  2.76634805e-02,\n",
              "         5.98426275e-02,  1.91349387e-02,  2.89526731e-02,\n",
              "        -4.81089577e-02,  7.05306977e-02,  1.35663501e-03,\n",
              "        -1.08595118e-01,  7.62161762e-02,  1.36927115e-02,\n",
              "         2.82714833e-02, -1.09578118e-01, -3.05879507e-02,\n",
              "        -4.62576710e-02,  1.11617923e-01, -2.19805092e-02,\n",
              "        -8.89126733e-02,  1.25654053e-03, -8.15540627e-02,\n",
              "        -3.89679968e-02,  9.74215269e-02, -4.61985134e-02,\n",
              "        -3.13395225e-02,  6.21609576e-02, -8.90833661e-02,\n",
              "        -1.68710051e-03, -1.11316815e-01, -1.11626871e-01,\n",
              "         1.04230367e-01, -4.10554633e-02, -7.67682046e-02,\n",
              "         5.65928705e-02, -9.05591026e-02,  3.24065201e-02,\n",
              "         5.32039953e-03, -3.27260345e-02, -9.36507061e-02,\n",
              "        -2.08944385e-03,  6.61911517e-02,  2.66796593e-02,\n",
              "         1.63310282e-02,  1.62927564e-02, -7.43270516e-02,\n",
              "         7.25260004e-02, -1.24772675e-02,  3.98477074e-03,\n",
              "         1.19097540e-02, -1.56343486e-02, -6.10173419e-02,\n",
              "         4.34718020e-02,  4.08285819e-02,  2.77025085e-02,\n",
              "        -1.95089355e-02, -1.47760231e-08, -3.18140388e-02,\n",
              "         2.72288769e-02,  3.21561694e-02,  5.68862632e-02,\n",
              "         2.20328830e-02,  6.38466850e-02, -2.19002608e-02,\n",
              "         4.15289477e-02, -4.36641127e-02,  6.24648482e-02,\n",
              "        -1.90843493e-02,  1.07459016e-02, -2.69600772e-03,\n",
              "         1.37028266e-02,  5.35367206e-02,  1.34065673e-01,\n",
              "        -4.93743159e-02, -2.69282218e-02, -3.28658940e-03,\n",
              "         2.76131481e-02,  3.43439505e-02,  1.68553758e-02,\n",
              "        -3.65986228e-02,  3.16331089e-02, -1.01163335e-01,\n",
              "        -4.49886061e-02,  5.14500774e-03,  8.90921243e-03,\n",
              "         3.30334418e-02, -6.54141828e-02,  2.44359616e-02,\n",
              "        -6.99771643e-02, -1.36098790e-03,  5.37485406e-02,\n",
              "         9.56212506e-02, -2.39946134e-02,  3.20845470e-02,\n",
              "        -4.51790728e-02,  1.33714639e-02, -2.93357056e-02,\n",
              "        -2.46101758e-03,  3.55265215e-02,  4.08020010e-03,\n",
              "         2.64495537e-02, -5.04094874e-03, -1.65394284e-02,\n",
              "        -2.78885067e-02,  3.36594356e-04, -2.68161427e-02,\n",
              "        -3.89475711e-02, -1.57806762e-02, -1.11033330e-02,\n",
              "         5.43525722e-03, -2.97916718e-02,  8.21812451e-02,\n",
              "         3.99857089e-02, -1.04513466e-01, -4.65827137e-02,\n",
              "        -3.26482840e-02,  5.65965883e-02, -2.67141871e-02,\n",
              "         7.49737397e-02,  1.67934284e-01,  1.10597806e-02]], dtype=float32)"
            ]
          },
          "metadata": {},
          "execution_count": 87
        }
      ]
    },
    {
      "cell_type": "code",
      "source": [
        "query_embeddings = query_embeddings.reshape(-1)"
      ],
      "metadata": {
        "id": "9vfVe4cLlKzN"
      },
      "execution_count": 88,
      "outputs": []
    },
    {
      "cell_type": "code",
      "source": [
        "neighbors, distances = searcher.search(query_embeddings, final_num_neighbors=5)"
      ],
      "metadata": {
        "id": "LVPJTDhBlK2Y"
      },
      "execution_count": 89,
      "outputs": []
    },
    {
      "cell_type": "code",
      "source": [
        "print(\"Query:\", query_sentence)\n",
        "print(\"Nearest Neighbors:\")\n",
        "\n",
        "for idx, (neighbor, distance) in enumerate(zip(neighbors, distances)):\n",
        "  paragraph = extended_paragraphs[neighbor]\n",
        "  print(f\"{idx + 1}: Paragraph: '{paragraph}', Distance: {distance}\")"
      ],
      "metadata": {
        "colab": {
          "base_uri": "https://localhost:8080/"
        },
        "id": "UA8cVHK0lK54",
        "outputId": "52c85cf2-f201-41e4-8894-a4079e0c8d2a"
      },
      "execution_count": 90,
      "outputs": [
        {
          "output_type": "stream",
          "name": "stdout",
          "text": [
            "Query: Programming languages like Python have revolutionized software development.\n",
            "Nearest Neighbors:\n",
            "1: Paragraph: 'The history of Python dates back to the late 1980s.', Distance: 0.6318474411964417\n",
            "2: Paragraph: 'Artificial Intelligence has been a subject of intrigue for decades.', Distance: 0.34222590923309326\n",
            "3: Paragraph: 'Natural language processing enables computers to understand human language.', Distance: 0.3414521813392639\n",
            "4: Paragraph: 'Quantum computing holds the potential to revolutionize technology.', Distance: 0.3374345898628235\n",
            "5: Paragraph: 'Mathematics is the language of the universe.', Distance: 0.33381569385528564\n"
          ]
        }
      ]
    },
    {
      "cell_type": "markdown",
      "source": [
        "## Spotify Annoy\n",
        "\n",
        "Approximate Nearest Neighbors Oh Yeah is a C++ library. Python binding of this.\n",
        "\n",
        "Spotify for music recommendation systems."
      ],
      "metadata": {
        "id": "hAraPawww-t2"
      }
    },
    {
      "cell_type": "code",
      "source": [
        "!pip install annoy"
      ],
      "metadata": {
        "colab": {
          "base_uri": "https://localhost:8080/"
        },
        "id": "UB8XgbWHvXpH",
        "outputId": "cef87d86-0b86-4e34-8a4f-2a80cf9040d0"
      },
      "execution_count": 91,
      "outputs": [
        {
          "output_type": "stream",
          "name": "stdout",
          "text": [
            "Requirement already satisfied: annoy in /usr/local/lib/python3.10/dist-packages (1.17.3)\n"
          ]
        }
      ]
    },
    {
      "cell_type": "code",
      "source": [
        "from annoy import AnnoyIndex"
      ],
      "metadata": {
        "id": "uKDwPIplvXre"
      },
      "execution_count": 92,
      "outputs": []
    },
    {
      "cell_type": "markdown",
      "source": [
        "## Building the Annoy index\n",
        "\n",
        "Annoy requires you to specify the number of dims for the vectors and the metrics (like \"Angular\", \"euclidean\", etc.)"
      ],
      "metadata": {
        "id": "aWwIWYr6yRJn"
      }
    },
    {
      "cell_type": "code",
      "source": [
        "f = embeddings.shape[1]\n",
        "t = AnnoyIndex(f, 'angular')"
      ],
      "metadata": {
        "id": "V3bhM_e3vXuu"
      },
      "execution_count": 93,
      "outputs": []
    },
    {
      "cell_type": "code",
      "source": [
        "for i, vector in enumerate(embeddings):\n",
        "  t.add_item(i, vector)"
      ],
      "metadata": {
        "id": "fTbmv1pgyqv7"
      },
      "execution_count": 94,
      "outputs": []
    },
    {
      "cell_type": "code",
      "source": [
        "t.build(10)\n",
        "t.save('test.ann')"
      ],
      "metadata": {
        "colab": {
          "base_uri": "https://localhost:8080/"
        },
        "id": "PQMSpjv3yqyQ",
        "outputId": "58ef7059-c1c8-449d-c16e-c1e8edc6254a"
      },
      "execution_count": 95,
      "outputs": [
        {
          "output_type": "execute_result",
          "data": {
            "text/plain": [
              "True"
            ]
          },
          "metadata": {},
          "execution_count": 95
        }
      ]
    },
    {
      "cell_type": "markdown",
      "source": [
        "## Querying the index"
      ],
      "metadata": {
        "id": "G1EAh3vWz1Il"
      }
    },
    {
      "cell_type": "code",
      "source": [
        "u = AnnoyIndex(f, 'angular')\n",
        "u.load('test.ann')"
      ],
      "metadata": {
        "colab": {
          "base_uri": "https://localhost:8080/"
        },
        "id": "zgJN7LfKyq1d",
        "outputId": "43791ecb-2e27-482b-f93d-af8b4f1fa435"
      },
      "execution_count": 96,
      "outputs": [
        {
          "output_type": "execute_result",
          "data": {
            "text/plain": [
              "True"
            ]
          },
          "metadata": {},
          "execution_count": 96
        }
      ]
    },
    {
      "cell_type": "code",
      "source": [
        "n_neighbors = 5\n",
        "nearest_neighbors_indices, distances = u.get_nns_by_vector(query_embeddings, n_neighbors, include_distances= True)"
      ],
      "metadata": {
        "id": "W1FuShGX0Crj"
      },
      "execution_count": 97,
      "outputs": []
    },
    {
      "cell_type": "code",
      "source": [
        "print(\"Query:\", query_sentence)\n",
        "\n",
        "for i, (neighbor_idx, distance) in enumerate(zip(nearest_neighbors_indices, distances)):\n",
        "  paragraph = extended_paragraphs[neighbor_idx]\n",
        "  print(f\"{i + 1}: Paragraph: '{paragraph}', Distance: {distance}\")"
      ],
      "metadata": {
        "colab": {
          "base_uri": "https://localhost:8080/"
        },
        "id": "FDU0iz730Ct2",
        "outputId": "84f00272-21d4-4d84-f68d-f56ecd04e61a"
      },
      "execution_count": 98,
      "outputs": [
        {
          "output_type": "stream",
          "name": "stdout",
          "text": [
            "Query: Programming languages like Python have revolutionized software development.\n",
            "1: Paragraph: 'The history of Python dates back to the late 1980s.', Distance: 0.8580821752548218\n",
            "2: Paragraph: 'Artificial Intelligence has been a subject of intrigue for decades.', Distance: 1.1469734907150269\n",
            "3: Paragraph: 'Natural language processing enables computers to understand human language.', Distance: 1.1476478576660156\n",
            "4: Paragraph: 'Quantum computing holds the potential to revolutionize technology.', Distance: 1.1511433124542236\n",
            "5: Paragraph: 'Mathematics is the language of the universe.', Distance: 1.1542826890945435\n"
          ]
        }
      ]
    },
    {
      "cell_type": "markdown",
      "source": [
        "## FAISS\n",
        "\n",
        "Facebook AI Similarity Search"
      ],
      "metadata": {
        "id": "OY3QtaAF4Irz"
      }
    },
    {
      "cell_type": "code",
      "source": [
        "!pip install faiss_cpu"
      ],
      "metadata": {
        "colab": {
          "base_uri": "https://localhost:8080/"
        },
        "id": "AEuVKqKr0CwP",
        "outputId": "bfc13a76-8a74-4d33-fe64-2e78d5d2c804"
      },
      "execution_count": 99,
      "outputs": [
        {
          "output_type": "stream",
          "name": "stdout",
          "text": [
            "Requirement already satisfied: faiss_cpu in /usr/local/lib/python3.10/dist-packages (1.7.4)\n"
          ]
        }
      ]
    },
    {
      "cell_type": "code",
      "source": [
        "import faiss"
      ],
      "metadata": {
        "id": "saJtB-bh0Cyl"
      },
      "execution_count": 100,
      "outputs": []
    },
    {
      "cell_type": "code",
      "source": [
        "embeddings = np.array(model.encode(extended_paragraphs)).astype('float32')"
      ],
      "metadata": {
        "id": "gUTn0Ysr0C1y"
      },
      "execution_count": 101,
      "outputs": []
    },
    {
      "cell_type": "code",
      "source": [
        "d = embeddings.shape[1]"
      ],
      "metadata": {
        "id": "4fB4Rcsw49tA"
      },
      "execution_count": 102,
      "outputs": []
    },
    {
      "cell_type": "code",
      "source": [
        "## flat index\n",
        "index = faiss.IndexFlatL2(d)\n",
        "index.add(embeddings)"
      ],
      "metadata": {
        "id": "Xrkpa_BL49vO"
      },
      "execution_count": 103,
      "outputs": []
    },
    {
      "cell_type": "code",
      "source": [
        "query_embedding = np.array(model.encode([query_sentence])).astype('float32')"
      ],
      "metadata": {
        "id": "ohvg_tad49xo"
      },
      "execution_count": 104,
      "outputs": []
    },
    {
      "cell_type": "code",
      "source": [
        "k = 5\n",
        "D, I = index.search(query_embedding, k)"
      ],
      "metadata": {
        "id": "MJWmB_2849zm"
      },
      "execution_count": 105,
      "outputs": []
    },
    {
      "cell_type": "code",
      "source": [
        "print(\"Query:\", query_sentence)\n",
        "\n",
        "for i in range(k):\n",
        "  print(f\"{i + 1}: Paragraph: '{extended_paragraphs[I[0][i]]}', Distance: {D[0][i]}\")"
      ],
      "metadata": {
        "colab": {
          "base_uri": "https://localhost:8080/"
        },
        "id": "MGb0IXlK4929",
        "outputId": "a2fbdcd5-b1b5-4eed-f835-1636478e8a23"
      },
      "execution_count": 106,
      "outputs": [
        {
          "output_type": "stream",
          "name": "stdout",
          "text": [
            "Query: Programming languages like Python have revolutionized software development.\n",
            "1: Paragraph: 'The history of Python dates back to the late 1980s.', Distance: 0.7363049983978271\n",
            "2: Paragraph: 'Artificial Intelligence has been a subject of intrigue for decades.', Distance: 1.3155479431152344\n",
            "3: Paragraph: 'Natural language processing enables computers to understand human language.', Distance: 1.3170955181121826\n",
            "4: Paragraph: 'Quantum computing holds the potential to revolutionize technology.', Distance: 1.325130820274353\n",
            "5: Paragraph: 'Mathematics is the language of the universe.', Distance: 1.3323683738708496\n"
          ]
        }
      ]
    }
  ]
}